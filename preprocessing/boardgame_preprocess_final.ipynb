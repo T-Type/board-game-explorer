{
 "cells": [
  {
   "cell_type": "code",
   "execution_count": 1,
   "metadata": {
    "id": "E6LiQsjQQXpl",
    "pycharm": {
     "is_executing": true
    }
   },
   "outputs": [],
   "source": [
    "import numpy as np\n",
    "import pandas as pd\n",
    "import re\n",
    "from sklearn.preprocessing import MultiLabelBinarizer\n",
    "from sklearn.metrics.pairwise import cosine_similarity"
   ]
  },
  {
   "cell_type": "markdown",
   "metadata": {
    "id": "8ovsljs33dJC"
   },
   "source": [
    "# Step 1: Load data columns we want to use"
   ]
  },
  {
   "cell_type": "code",
   "execution_count": 2,
   "metadata": {
    "pycharm": {
     "is_executing": true
    }
   },
   "outputs": [],
   "source": [
    "games_all = pd.read_csv('data/games_detailed_info.csv', \n",
    "                    engine='python',\n",
    "                    encoding='utf-8',\n",
    "                    usecols=['id', 'thumbnail', 'primary', 'yearpublished', \n",
    "                             'minplayers', 'maxplayers', 'playingtime', 'minage', \n",
    "                             'boardgamecategory', 'boardgamemechanic', \n",
    "                             'boardgamefamily', 'boardgamedesigner', 'usersrated', \n",
    "                             'average', 'Board Game Rank', 'Strategy Game Rank', 'Family Game Rank', \n",
    "                             'averageweight', 'Party Game Rank', 'Abstract Game Rank', 'Thematic Rank', \n",
    "                             'War Game Rank', 'Customizable Rank', \"Children's Game Rank\"])"
   ]
  },
  {
   "cell_type": "markdown",
   "metadata": {
    "id": "IUyIP6u38TO-"
   },
   "source": [
    "# Step 2: rename columns to better names"
   ]
  },
  {
   "cell_type": "code",
   "execution_count": 3,
   "metadata": {
    "id": "34WwRBtmRWy6",
    "pycharm": {
     "is_executing": true
    }
   },
   "outputs": [],
   "source": [
    "games_all = games_all.rename(columns={'primary': 'name',\n",
    "                              'yearpublished': 'year',\n",
    "                              'minplayers': 'min_players',\n",
    "                              'maxplayers': 'max_players',\n",
    "                              'playingtime': 'playing_time',\n",
    "                              'minage': 'min_age',\n",
    "                              'boardgamecategory': 'category',\n",
    "                              'boardgamemechanic': 'mechanic',\n",
    "                              'boardgamefamily': 'family',\n",
    "                              'boardgamedesigner': 'designer',\n",
    "                              'usersrated': 'users_rated',        \n",
    "                              'average': 'rating',\n",
    "                              'Board Game Rank': 'rank',\n",
    "                              'averageweight': 'complexity',\n",
    "                              'Strategy Game Rank': 'type_strategy',\n",
    "                              'Family Game Rank': 'type_family',\n",
    "                              'Party Game Rank': 'type_party',\n",
    "                              'Abstract Game Rank': 'type_abstract',\n",
    "                              'Thematic Rank': 'type_thematic',\n",
    "                              'War Game Rank': 'type_war',\n",
    "                              'Customizable Rank': 'type_customizable',\n",
    "                              \"Children's Game Rank\": 'type_children'})"
   ]
  },
  {
   "cell_type": "markdown",
   "metadata": {
    "id": "EL80xeGC3k4K"
   },
   "source": [
    "# Step 3: Convert columns to better data formats\n",
    "- arrays stored as string --> arrays of strings (boardgamecategory, boardgamefamily, boardgamemechanic, boardgamedesigner)\n",
    "- numbers stored as strings --> numbers (Board Game Rank)\n",
    "- type ranks --> booleans\n",
    "\n",
    "- method to reassign columns in a loop suggested [here](https://github.com/pandas-dev/pandas/issues/29435)"
   ]
  },
  {
   "cell_type": "code",
   "execution_count": 4,
   "metadata": {
    "pycharm": {
     "is_executing": true
    }
   },
   "outputs": [],
   "source": [
    "def convert_array_col(cell):\n",
    "  if type(cell) != str:\n",
    "    return []\n",
    "  else:\n",
    "    clean_step_1 = cell.strip('[]')\n",
    "    clean_step_2 = re.sub(r\"\\s/\\s\", \"/\", clean_step_1)\n",
    "    split = re.split(r\", ['\\\"]\", clean_step_2)\n",
    "    clean_step_3 = [re.sub(r\"^'|'$|^\\\"|\\\"$\", \"\", c) for c in split]\n",
    "    return clean_step_3\n",
    "\n",
    "def convert_str_to_int(cell):\n",
    "    return np.nan if cell == 'Not Ranked' else float(cell)\n",
    "\n",
    "def convert_rank_to_bool(cell):\n",
    "  if cell == 'Not Ranked':\n",
    "    return 0\n",
    "  else:\n",
    "    return 0 if pd.isna(float(cell)) else 1"
   ]
  },
  {
   "cell_type": "code",
   "execution_count": 5,
   "metadata": {
    "id": "EhYUo0MATu6o",
    "pycharm": {
     "is_executing": true
    }
   },
   "outputs": [],
   "source": [
    "array_col_to_convert = ['category', 'mechanic', 'family', 'designer']\n",
    "str_col_to_convert = ['rank']\n",
    "rank_col_to_convert = ['type_strategy', 'type_family', 'type_party', 'type_abstract', \n",
    "                       'type_thematic', 'type_war', 'type_customizable', 'type_children']\n",
    "\n",
    "games_all = games_all.assign(**{col: games_all[col].apply(convert_array_col) for col in array_col_to_convert})\n",
    "games_all = games_all.assign(**{col: games_all[col].apply(convert_str_to_int) for col in str_col_to_convert})\n",
    "games_all = games_all.assign(**{col: games_all[col].apply(convert_rank_to_bool) for col in rank_col_to_convert})"
   ]
  },
  {
   "cell_type": "markdown",
   "metadata": {
    "id": "yH1U3NaG-QdD"
   },
   "source": [
    "# Step 4: Filter to top 1000 games with type\n"
   ]
  },
  {
   "cell_type": "code",
   "execution_count": 6,
   "metadata": {
    "id": "v3b5APt0-Qze",
    "pycharm": {
     "is_executing": true
    }
   },
   "outputs": [],
   "source": [
    "types = rank_col_to_convert\n",
    "games = games_all.loc[games_all[types].max(axis=1) == 1].nsmallest(n=1000, columns='rank').reset_index(drop=True)"
   ]
  },
  {
   "cell_type": "markdown",
   "metadata": {},
   "source": [
    "# Step 5: Process theme data\n",
    "- add themes from family for games without themes\n",
    "- combine Pirates and Nautical (to keep # of themes per cluster minimal)\n",
    "- add War to themes for Wargames\n",
    "- separate out themes from categories (as per the hierarchy for categories describe [here](https://boardgamegeek.com/wiki/page/Category))"
   ]
  },
  {
   "cell_type": "code",
   "execution_count": 7,
   "metadata": {
    "pycharm": {
     "is_executing": true,
     "name": "#%%\n"
    }
   },
   "outputs": [],
   "source": [
    "category_hierarchy = {\n",
    "#     \"activities\": ['City Building', 'Civilization', 'Educational', 'Puzzle', 'Racing', 'Territory Building',\n",
    "#                    'Transportation'],\n",
    "#     \"components\": ['Card Game', 'Collectible Components', 'Dice', 'Electronic', 'Miniatures', 'Print & Play'],\n",
    "#     \"Non-Game\": ['Expansion for Base-game'],\n",
    "#     \"Party Games\": ['Party Game'],\n",
    "#     \"Abstract Strategy Games\": ['Abstract Strategy'],\n",
    "#     \"Age\": [\"Children's Game\", 'Mature/Adult'],\n",
    "    \"wargames\": ['American Civil War', 'American Indian Wars', 'American Revolutionary War', 'Civil War',\n",
    "                 'Modern Warfare', 'Napoleonic', 'Pike and Shot', 'Post-Napoleonic', 'Vietnam War',\n",
    "                 'World War I', 'World War II'],\n",
    "#     \"skills\": ['Action/Dexterity', 'Bluffing', 'Deduction', 'Economic', 'Math', 'Maze', 'Memory', 'Number',\n",
    "#                'Negotiation', 'Real-time', 'Trivia', 'Word Game'],\n",
    "    \"themes\": ['Adventure', 'Age of Reason', 'American West', 'Ancient', 'Animals', 'Arabian', 'Aviation/Flight',\n",
    "               'Comic Book/Strip', 'Environmental', 'Exploration', 'Fantasy', 'Farming', 'Fighting', 'Horror',\n",
    "               'Humor', 'Industry/Manufacturing', 'Mafia', 'Medical', 'Medieval', 'Movies/TV/Radio theme',\n",
    "               'Murder/Mystery', 'Mythology',  'Nautical', 'Novel-based', 'Pirates', 'Political', 'Prehistoric',\n",
    "               'Racing', 'Religious', 'Renaissance', 'Science Fiction', 'Space Exploration', 'Spies/Secret Agents',\n",
    "               'Sports', 'Trains', 'Transportation', 'Travel', 'Video Game Theme', 'Zombies', 'Food & Drink']\n",
    "}\n",
    "\n",
    "for big_c in category_hierarchy.keys():\n",
    "  games[big_c] = games.category.apply(lambda x: [c for c in category_hierarchy[big_c] if c in x])"
   ]
  },
  {
   "cell_type": "code",
   "execution_count": 8,
   "metadata": {
    "pycharm": {
     "is_executing": true,
     "name": "#%%\n"
    }
   },
   "outputs": [],
   "source": [
    "games.themes = games.apply(lambda row: row['themes'] + ['War'] if len(row['wargames']) > 0 else row['themes'], axis=1)\n",
    "games = games.drop('wargames', axis=1)"
   ]
  },
  {
   "cell_type": "code",
   "execution_count": 9,
   "metadata": {
    "pycharm": {
     "is_executing": true
    }
   },
   "outputs": [],
   "source": [
    "def add_theme_from_family(row):\n",
    "    if len(row.themes) > 0: #only do conversion if there are no themes already\n",
    "        return row.themes\n",
    "    else:\n",
    "        themes = []\n",
    "        families_as_string = \" \".join(row.family)\n",
    "        ## existing themes\n",
    "        themes.append('Ancient') if any([f in families_as_string for f in ['Ancient:']]) else None\n",
    "        themes.append('Prehistoric') if 'Paleontology' in families_as_string else None\n",
    "        themes.append('Animals') if 'Animals:' in families_as_string else None\n",
    "        themes.append('Novel-based') if any([f in families_as_string for f in ['Authors:', 'Books:']]) else None\n",
    "        themes.append('Comic Book/Strip') if any([f in families_as_string for f in ['Comic Books:', 'Anime', 'Superheroes']]) else None\n",
    "        themes.append('Science Fiction') if any([f in families_as_string for f in ['Aliens', 'Cyberpunk', 'Robots', 'Sci-Fi', 'Time Travel', 'UFOs', 'Post-Apolcalyptic', 'Steampunk']]) else None\n",
    "        themes.append('Fantasy') if any([f in families_as_string for f in ['Demons', 'Dragons', 'Dwarves', 'Fairies', 'Goblins', 'Trolls', 'Unicorns','Druids']]) else None\n",
    "        themes.append('Horror') if any([f in families_as_string for f in ['Ghosts', 'Monsters', 'Vampires', 'Werewolves', 'Nightmares', 'Spooky', 'Witches']]) else None\n",
    "        themes.append('Mythology') if any([f in families_as_string for f in ['Minotaurs', 'Mythology:']]) else None\n",
    "        themes.append('Zombies') if 'Zombies' in families_as_string else None\n",
    "        themes.append('Medical') if any([f in families_as_string for f in ['Medical:', 'Medic', 'Biology']]) else None\n",
    "        themes.append('Movies/TV/Radio theme') if any([f in families_as_string for f in ['Movies:', 'TV Shows:', 'Movie', 'Television']]) else None\n",
    "        themes.append('Exploration') if '/Explorer' in families_as_string else None\n",
    "        themes.append('Farming') if 'Farmer' in families_as_string else None\n",
    "        themes.append('Industry/Manufacturing') if any([f in families_as_string for f in ['Merchant', 'Mining', 'Petroleum']]) else None\n",
    "        themes.append('Political') if 'Political:' in families_as_string else None\n",
    "        themes.append('Religious') if any([f in families_as_string for f in ['Religious:', 'Temple']]) else None\n",
    "        themes.append('Space Exploration') if any([f in families_as_string for f in ['Space', 'Astronomy']]) else None\n",
    "        themes.append('Sports') if 'Sports' in families_as_string else None\n",
    "        themes.append('Video Game Theme') if 'Video Game Theme' in families_as_string else None\n",
    "        themes.append('Aviation/Flight') if 'Airships' in families_as_string else None\n",
    "        themes.append('Transportation') if any([f in families_as_string for f in ['Automotive', 'Motorcycles', 'Submarines', 'Trucks']]) else None\n",
    "        themes.append('Humor') if 'Circus' in families_as_string else None\n",
    "        themes.append('Environmental') if any([f in families_as_string for f in ['Climate Change', 'Earthquakes', 'Volcanoes', 'Weather']]) else None\n",
    "        themes.append('Murder/Mystery') if any([f in families_as_string for f in ['Mystery']]) else None\n",
    "        themes.append('Fighting') if any([f in families_as_string for f in ['Gladiators', 'Ninjas', 'Samurai', 'Survival']]) else None\n",
    "        themes.append('Mafia') if 'Jail' in families_as_string else None\n",
    "        themes.append('Medieval') if 'Camelot' in families_as_string else None\n",
    "        themes.append('War') if 'Warfare' in families_as_string else None\n",
    "        ## new themes\n",
    "        themes.append('Food & Drink') if any([f in families_as_string for f in ['Food & Drink:', 'Food/', 'Mushrooms', 'Bistros']]) else None\n",
    "        themes.append('Parks, Forests & Beaches') if any([f in families_as_string for f in ['Parks', 'Beaches', 'Deserts', 'Flowers', 'Gardening', 'Trees','Tropical', 'Under The Sea']]) else None\n",
    "        themes.append('City Life') if any([f in families_as_string for f in [': City', 'Canals', 'Construction', 'Firefighting']]) else None\n",
    "        return themes\n",
    "\n",
    "games.themes = games.apply(lambda row: add_theme_from_family(row), axis=1)"
   ]
  },
  {
   "cell_type": "code",
   "execution_count": 10,
   "metadata": {
    "pycharm": {
     "is_executing": true,
     "name": "#%%\n"
    }
   },
   "outputs": [],
   "source": [
    "# amalgamates Pirates into Nautical to avoid repetition\n",
    "def change_pirate(row):\n",
    "    themes = row.themes.copy()\n",
    "    themes.remove('Pirates')\n",
    "    if 'Nautical' not in themes:\n",
    "        themes.append('Nautical')\n",
    "    return themes\n",
    "\n",
    "games.themes = games.apply(lambda row: change_pirate(row) if 'Pirates' in row['themes'] else row['themes'], axis=1)"
   ]
  },
  {
   "cell_type": "code",
   "execution_count": 11,
   "metadata": {},
   "outputs": [],
   "source": [
    "# changes names of some themes for conciseness\n",
    "changes = {\n",
    "    'Parks, Forests & Beaches': 'Parks & Beaches',\n",
    "    'Murder/Mystery': 'Murder & Mystery', \n",
    "    'Spies/Secret Agents': 'Spies', \n",
    "    'Aviation/Flight': 'Planes', \n",
    "    'Industry/Manufacturing': 'Industry', \n",
    "    'Movies/TV/Radio theme': 'Movies & TV', \n",
    "    'Video Game Theme': 'Video Games', \n",
    "    'Comic Book/Strip': 'Comic Books'\n",
    "}\n",
    "def change_names(row):\n",
    "    return [changes[t] if t in changes.keys() else t for t in row.themes]\n",
    "    \n",
    "games.themes = games.apply(lambda row: change_names(row), axis=1)"
   ]
  },
  {
   "cell_type": "markdown",
   "metadata": {},
   "source": [
    "# Step 6: Create columns of theme clusters\n",
    "- these clusters are created by us\n",
    "- drop theme column once we have allocated themes to the theme clusters"
   ]
  },
  {
   "cell_type": "code",
   "execution_count": 12,
   "metadata": {
    "pycharm": {
     "is_executing": true
    }
   },
   "outputs": [],
   "source": [
    "big_themes = {\n",
    "    'history': ['Age of Reason', 'American West', 'Ancient', 'Renaissance', 'Prehistoric', 'Medieval', 'Arabian'],\n",
    "    'nature': ['Animals', 'Environmental', 'Farming', 'Fantasy', 'Mythology', 'Religious', 'Parks & Beaches'],\n",
    "    'journey': ['Planes', 'Trains', 'Transportation', 'Travel', 'Exploration', 'Nautical', 'Adventure'],\n",
    "    'culture': ['Comic Books', 'Novel-based', 'Video Games', 'Movies & TV', 'Humor', 'Sports', 'Food & Drink'],\n",
    "    'science': ['Science Fiction', 'Space Exploration', 'Industry', 'Medical', 'Zombies', 'Horror', 'City Life'],\n",
    "    'war': ['Fighting', 'Mafia', 'Murder & Mystery', 'Racing', 'Spies', 'Political', 'War'],\n",
    "}"
   ]
  },
  {
   "cell_type": "code",
   "execution_count": 13,
   "metadata": {
    "colab": {
     "base_uri": "https://localhost:8080/"
    },
    "id": "6C7v4EuYtyNW",
    "outputId": "a7563208-1b45-4f65-a33f-34fa41ce4f51",
    "pycharm": {
     "is_executing": true
    }
   },
   "outputs": [],
   "source": [
    "for big_t in big_themes.keys():\n",
    "  games['theme_cluster_' + big_t] = games.themes.apply(lambda x: [t for t in big_themes[big_t] if t in x])"
   ]
  },
  {
   "cell_type": "code",
   "execution_count": 14,
   "metadata": {
    "pycharm": {
     "is_executing": true
    }
   },
   "outputs": [],
   "source": [
    "games = games.drop('themes', axis=1)"
   ]
  },
  {
   "cell_type": "markdown",
   "metadata": {
    "id": "pWyyY3Q9KQ3y"
   },
   "source": [
    "# Step 7: Create links\n",
    "- base similarity measure on having same categories, families, mechanics, designers, types\n",
    "- MultiLabelBinarizer makes one column per item in each of the above categories (1 present, 0 not) [as suggested [here](https://stackoverflow.com/questions/45312377/how-to-one-hot-encode-from-a-pandas-column-containing-a-list)]\n",
    "- cosine_similarity calculates the similarity score based on the vectors above\n",
    "- filter to > 0.4 because we consider this \"similar\"\n",
    "- create a list of links for each game of format {source: gameID, target: otherGameId, weight: similarity_score}\n",
    "- then drop category, family, mechanic, and designer columns, since they are no longer needed"
   ]
  },
  {
   "cell_type": "code",
   "execution_count": 15,
   "metadata": {
    "id": "oyhsif94KdNw",
    "pycharm": {
     "is_executing": true
    }
   },
   "outputs": [],
   "source": [
    "data_for_links = games[['category', 'family', 'mechanic', 'designer',\n",
    "                        'type_strategy', 'type_family', 'type_party', 'type_abstract',\n",
    "                        'type_thematic', 'type_war', 'type_customizable', 'type_children']]"
   ]
  },
  {
   "cell_type": "code",
   "execution_count": 16,
   "metadata": {
    "pycharm": {
     "is_executing": true
    }
   },
   "outputs": [],
   "source": [
    "mlb = MultiLabelBinarizer()\n",
    "data_for_links = data_for_links.join(pd.DataFrame(mlb.fit_transform(data_for_links.category), columns=[f'category_{c}' for c in mlb.classes_]))\n",
    "data_for_links = data_for_links.join(pd.DataFrame(mlb.fit_transform(data_for_links.mechanic), columns=[f'mechanic_{c}' for c in mlb.classes_]))\n",
    "data_for_links = data_for_links.join(pd.DataFrame(mlb.fit_transform(data_for_links.family), columns=[f'family_{c}' for c in mlb.classes_]))\n",
    "data_for_links = data_for_links.join(pd.DataFrame(mlb.fit_transform(data_for_links.designer), columns=[f'designer_{c}' for c in mlb.classes_]))"
   ]
  },
  {
   "cell_type": "code",
   "execution_count": 17,
   "metadata": {
    "pycharm": {
     "is_executing": true
    }
   },
   "outputs": [],
   "source": [
    "data_for_links = data_for_links.drop(['category', 'family', 'mechanic', 'designer'], axis=1)\n",
    "games = games.drop(['category', 'family', 'mechanic', 'designer'], axis=1)"
   ]
  },
  {
   "cell_type": "code",
   "execution_count": 18,
   "metadata": {
    "id": "q_N60YuLaR6b",
    "pycharm": {
     "is_executing": true
    }
   },
   "outputs": [],
   "source": [
    "links = pd.DataFrame(cosine_similarity(data_for_links, Y=None, dense_output=True))"
   ]
  },
  {
   "cell_type": "code",
   "execution_count": 19,
   "metadata": {
    "pycharm": {
     "is_executing": true
    }
   },
   "outputs": [],
   "source": [
    "links = links.applymap(lambda cell: 0.0 if cell < 0.4 else cell)"
   ]
  },
  {
   "cell_type": "code",
   "execution_count": 20,
   "metadata": {
    "pycharm": {
     "is_executing": true
    },
    "scrolled": true
   },
   "outputs": [],
   "source": [
    "links = links.rename(index=games.id, columns=games.id)"
   ]
  },
  {
   "cell_type": "code",
   "execution_count": 21,
   "metadata": {
    "pycharm": {
     "is_executing": true
    }
   },
   "outputs": [],
   "source": [
    "links_aggregated = {}\n",
    "for row in links.index:\n",
    "    game_links = []\n",
    "    for col in links.columns:\n",
    "        if links[row][col] > 0 and row != col:\n",
    "            game_links.append({'source': row, 'target': col, 'weight': links[row][col]})\n",
    "    links_aggregated[row] = game_links"
   ]
  },
  {
   "cell_type": "code",
   "execution_count": 22,
   "metadata": {
    "pycharm": {
     "is_executing": true
    }
   },
   "outputs": [],
   "source": [
    "games['links'] = games.id.apply(lambda id: links_aggregated[id])"
   ]
  },
  {
   "cell_type": "markdown",
   "metadata": {},
   "source": [
    "# Step 8: Create link to BGG website for each game"
   ]
  },
  {
   "cell_type": "code",
   "execution_count": 23,
   "metadata": {
    "pycharm": {
     "is_executing": true
    }
   },
   "outputs": [],
   "source": [
    "games['url'] = games.id.apply(lambda id: f'https://boardgamegeek.com/boardgame/{id}')"
   ]
  },
  {
   "cell_type": "markdown",
   "metadata": {},
   "source": [
    "# SAVE TO FILE"
   ]
  },
  {
   "cell_type": "code",
   "execution_count": 24,
   "metadata": {
    "pycharm": {
     "is_executing": true,
     "name": "#%%\n"
    }
   },
   "outputs": [],
   "source": [
    "games.to_json('data/games_clean.json', orient='records', double_precision=4)"
   ]
  }
 ],
 "metadata": {
  "colab": {
   "collapsed_sections": [],
   "name": "v2_boardgame.ipynb",
   "provenance": [],
   "toc_visible": true
  },
  "kernelspec": {
   "display_name": "Python 3 (ipykernel)",
   "language": "python",
   "name": "python3"
  },
  "language_info": {
   "codemirror_mode": {
    "name": "ipython",
    "version": 3
   },
   "file_extension": ".py",
   "mimetype": "text/x-python",
   "name": "python",
   "nbconvert_exporter": "python",
   "pygments_lexer": "ipython3",
   "version": "3.9.10"
  }
 },
 "nbformat": 4,
 "nbformat_minor": 1
}
